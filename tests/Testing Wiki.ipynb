{
 "cells": [
  {
   "cell_type": "code",
   "execution_count": 19,
   "id": "33fa4e37",
   "metadata": {
    "scrolled": false
   },
   "outputs": [],
   "source": [
    "# !pip install wikipedia language_tool_python"
   ]
  },
  {
   "cell_type": "code",
   "execution_count": 33,
   "id": "0feb888d",
   "metadata": {},
   "outputs": [
    {
     "name": "stdout",
     "output_type": "stream",
     "text": [
      "Albania ( (listen) a(w)l-BAY-nee-ə; Albanian: Shqipëri or Shqipëria), officially the Republic of Albania (Albanian: Republika e Shqipërisë), is a country in Southeastern Europe. It is located on the Adriatic and Ionian Seas within the Mediterranean Sea and shares land borders with Montenegro to the northwest, Kosovo to the northeast, North Macedonia to the east, and Greece to the south. The country displays varied climatic, geological, hydrological, and morphological conditions, in an area of 28,748 km2 (11,100 sq mi). The landscape ranges from the snow-capped mountains in the Albanian Alps and the Korab, Skanderbeg, Pindus, and Ceraunian Mountains, to the hot and sunny coasts of the Adriatic and Ionian Seas along the Mediterranean. Tirana is its capital and largest city, followed by Durrës, Vlorë, and Shkodër.\n",
      "Albania has been inhabited by different civilisations over time, such as the Illyrians, Thracians, Ancient Greeks, Romans, Byzantines, Venetians, and Ottomans. The Albanians established the autonomous Principality of Arbër in the 12th century. The Kingdom of Albania and Principality of Albania formed between the 13th and 14th centuries. Prior to the Ottoman conquest of Albania in the 15th century, the Albanian resistance to Ottoman expansion into Europe led by Skanderbeg won them acclaim over most of Europe. Albania remained under Ottoman rule for nearly five centuries, during which many Albanians (known as Arnauts) attained high-ranking offices in the empire, especially in the Southern Balkans and Egypt. Between the 18th and 19th centuries, cultural developments, widely attributed to Albanians having gathered both spiritual and intellectual strength, conclusively led to the Albanian Renaissance. After the defeat of the Ottomans in the Balkan Wars, the modern nation state of Albania declared independence in 1912. In the 20th century, the Kingdom of Albania was invaded by Italy, which formed Greater Albania before becoming a protectorate of Nazi Germany. Enver Hoxha formed the People's Socialist Republic of Albania after World War II, modeled under the terms of Hoxhaism. The Revolutions of 1991 concluded the fall of communism in Albania and eventually the establishment of the current Republic of Albania.\n",
      "Albania is a unitary parliamentary constitutional republic. It is a developing country, ranking 67th in the Human Development Index, with an upper-middle income economy dominated by the service sector, followed by manufacturing. It went through a process of transition following the end of communism in 1990, from centralised planning to a market-based economy. Albania provides universal health care and free primary and secondary education to its citizens. Albania is a member of the United Nations, World Bank, UNESCO, NATO, WTO, COE, OSCE, and OIC. It has been an official candidate for membership in the European Union since 2014. It is one of the founding members of the Energy Community, including the Organization of the Black Sea Economic Cooperation and Union for the Mediterranean.\n",
      "\n",
      "\n"
     ]
    }
   ],
   "source": [
    "import wikipedia as wiki\n",
    "wiki.set_lang(\"en\")\n",
    "print(wiki.summary(\"Shqipëria\"))"
   ]
  },
  {
   "cell_type": "code",
   "execution_count": 34,
   "id": "33377744",
   "metadata": {},
   "outputs": [
    {
     "data": {
      "text/plain": [
       "'Albania'"
      ]
     },
     "execution_count": 34,
     "metadata": {},
     "output_type": "execute_result"
    }
   ],
   "source": [
    "albania = wiki.page(\"Shqipëria\")\n",
    "albania.title"
   ]
  },
  {
   "cell_type": "code",
   "execution_count": 35,
   "id": "c60ed3aa",
   "metadata": {},
   "outputs": [],
   "source": [
    "# Load the Wikipedia article\n",
    "title = 'Python (programming language)'\n",
    "page = wiki.page(title)"
   ]
  },
  {
   "cell_type": "code",
   "execution_count": 37,
   "id": "42308eb2",
   "metadata": {},
   "outputs": [],
   "source": [
    "import language_tool_python\n",
    "\n",
    "# Create a LanguageTool object\n",
    "tool = language_tool_python.LanguageTool('en-US')\n",
    "\n",
    "# Check the grammar of the Wikipedia article\n",
    "text = page.content\n",
    "matches = tool.check(text)"
   ]
  },
  {
   "cell_type": "code",
   "execution_count": 48,
   "id": "feb1a8ce",
   "metadata": {},
   "outputs": [
    {
     "data": {
      "text/plain": [
       "{'message': 'Add a space between sentences.',\n",
       " 'replacements': [' Python'],\n",
       " 'offset': 152,\n",
       " 'context': '...with the use of significant indentation.Python is dynamically typed and garbage-collec...',\n",
       " 'sentence': 'Python is dynamically typed and garbage-collected.',\n",
       " 'category': 'TYPOGRAPHY',\n",
       " 'ruleId': 'SENTENCE_WHITESPACE',\n",
       " 'ruleIssueType': 'whitespace',\n",
       " 'offsetInContext': 43,\n",
       " 'errorLength': 6}"
      ]
     },
     "execution_count": 48,
     "metadata": {},
     "output_type": "execute_result"
    }
   ],
   "source": [
    "matches[0].__dict__"
   ]
  },
  {
   "cell_type": "code",
   "execution_count": 42,
   "id": "5abe8d58",
   "metadata": {},
   "outputs": [
    {
     "ename": "IndexError",
     "evalue": "list index out of range",
     "output_type": "error",
     "traceback": [
      "\u001b[0;31m---------------------------------------------------------------------------\u001b[0m",
      "\u001b[0;31mIndexError\u001b[0m                                Traceback (most recent call last)",
      "Cell \u001b[0;32mIn[42], line 5\u001b[0m\n\u001b[1;32m      3\u001b[0m start \u001b[38;5;241m=\u001b[39m match\u001b[38;5;241m.\u001b[39moffset\n\u001b[1;32m      4\u001b[0m end \u001b[38;5;241m=\u001b[39m match\u001b[38;5;241m.\u001b[39moffset \u001b[38;5;241m+\u001b[39m match\u001b[38;5;241m.\u001b[39merrorLength\n\u001b[0;32m----> 5\u001b[0m replacement \u001b[38;5;241m=\u001b[39m \u001b[43mmatch\u001b[49m\u001b[38;5;241;43m.\u001b[39;49m\u001b[43mreplacements\u001b[49m\u001b[43m[\u001b[49m\u001b[38;5;241;43m0\u001b[39;49m\u001b[43m]\u001b[49m \u001b[38;5;66;03m# get the first replacement suggestion\u001b[39;00m\n\u001b[1;32m      6\u001b[0m text \u001b[38;5;241m=\u001b[39m text[:start] \u001b[38;5;241m+\u001b[39m replacement \u001b[38;5;241m+\u001b[39m text[end:]\n",
      "\u001b[0;31mIndexError\u001b[0m: list index out of range"
     ]
    }
   ],
   "source": [
    "# Correct the errors in the Wikipedia article\n",
    "for match in matches:\n",
    "    start = match.offset\n",
    "    end = match.offset + match.errorLength\n",
    "    replacement = match.replacements[0] # get the first replacement suggestion\n",
    "    text = text[:start] + replacement + text[end:]"
   ]
  },
  {
   "cell_type": "code",
   "execution_count": null,
   "id": "ddada3c6",
   "metadata": {},
   "outputs": [],
   "source": [
    "page.edit(text, summary='Fixed grammar errors')\n"
   ]
  }
 ],
 "metadata": {
  "kernelspec": {
   "display_name": "venv",
   "language": "python",
   "name": "python3"
  },
  "language_info": {
   "codemirror_mode": {
    "name": "ipython",
    "version": 3
   },
   "file_extension": ".py",
   "mimetype": "text/x-python",
   "name": "python",
   "nbconvert_exporter": "python",
   "pygments_lexer": "ipython3",
   "version": "3.10.6"
  },
  "vscode": {
   "interpreter": {
    "hash": "73a16c215277dab70820cb6a411e6dc0e312b33226f780061a091042b9513d9b"
   }
  }
 },
 "nbformat": 4,
 "nbformat_minor": 5
}
