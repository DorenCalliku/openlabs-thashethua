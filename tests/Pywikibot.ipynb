{
 "cells": [
  {
   "cell_type": "code",
   "execution_count": 7,
   "metadata": {},
   "outputs": [],
   "source": [
    "import pywikibot\n",
    "from pywikibot import pagegenerators\n",
    "from pywikibot.bot import ExistingPageBot\n",
    "\n",
    "class MyBot(ExistingPageBot):\n",
    "\n",
    "    update_options = {\n",
    "        'text': 'This is a test text',\n",
    "        'summary': 'Bot: a bot test edit with Pywikibot.'\n",
    "    }\n",
    "\n",
    "    def treat_page(self):\n",
    "        \"\"\"Load the given page, do some changes, and save it.\"\"\"\n",
    "        text = self.current_page.text\n",
    "        text += '\\n' + self.opt.text\n",
    "        self.put_current(text, summary=self.opt.summary)\n",
    "\n",
    "def main():\n",
    "    \"\"\"Parse command line arguments and invoke bot.\"\"\"\n",
    "    options = {}\n",
    "    gen_factory = pagegenerators.GeneratorFactory()\n",
    "    # Option parsing\n",
    "    local_args = pywikibot.handle_args(args)  # global options\n",
    "    local_args = gen_factory.handle_args(local_args)  # generators options\n",
    "    for arg in local_args:\n",
    "        opt, sep, value = arg.partition(':')\n",
    "        if opt in ('-summary', '-text'):\n",
    "            options[opt[1:]] = value\n",
    "    MyBot(generator=gen_factory.getCombinedGenerator(), **options).run()\n"
   ]
  },
  {
   "cell_type": "code",
   "execution_count": null,
   "metadata": {},
   "outputs": [],
   "source": []
  }
 ],
 "metadata": {
  "kernelspec": {
   "display_name": "venv",
   "language": "python",
   "name": "python3"
  },
  "language_info": {
   "codemirror_mode": {
    "name": "ipython",
    "version": 3
   },
   "file_extension": ".py",
   "mimetype": "text/x-python",
   "name": "python",
   "nbconvert_exporter": "python",
   "pygments_lexer": "ipython3",
   "version": "3.10.6"
  },
  "orig_nbformat": 4
 },
 "nbformat": 4,
 "nbformat_minor": 2
}
