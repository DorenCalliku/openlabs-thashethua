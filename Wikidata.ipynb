{
 "cells": [
  {
   "cell_type": "markdown",
   "metadata": {
    "slideshow": {
     "slide_type": "-"
    }
   },
   "source": [
    "# Building a stand-alone off-Wiki layered map using Wikidata & SPARQL\n",
    "\n",
    "This Jupyter notebook shows you step by step **how to make a Wikidata-driven layered map that can be used off-Wiki**.\n",
    "\n",
    "It is part of Module 3 of the map making workshop [From Wikidata to interactive off-Wiki maps in three steps](https://github.com/ookgezellig/WikidataMapMakingWorkshop)\n",
    "\n",
    "<img src=\"https://raw.githubusercontent.com/ookgezellig/WikidataMapMakingWorkshop/master/images/generic-workshop-opening.jpg\" alt=\"Generic workshop opening slide\" width=\"400\" align=\"left\"/>\n",
    "<br clear=\"all\"/>\n",
    "\n",
    "For more context to this workshop you can check the\n",
    "* [full layout](https://github.com/ookgezellig/WikidataMapMakingWorkshop/blob/master/OutlineAndNotes.md), and\n",
    "* [full slides (pdf)](https://github.com/ookgezellig/WikidataMapMakingWorkshop/blob/master/slides/Generic/WikidataMapMakingWorkshop_Generic.pdf) \n",
    "\n",
    "This notebook is publically available at\n",
    "* https://paws-public.wmflabs.org/paws-public/User:OlafJanssen/WikidataMapMakingWorkshop/WikidataMapMakingWorkshop.ipynb (and in [raw format](https://paws-public.wmflabs.org/paws-public/User:OlafJanssen/WikidataMapMakingWorkshop/WikidataMapMakingWorkshop.ipynb?format=raw))\n",
    "* https://github.com/ookgezellig/WikidataMapMakingWorkshop/blob/master/module3stuff/WikidataMapMakingWorkshop.ipynb (and in [raw format](https://raw.githubusercontent.com/ookgezellig/WikidataMapMakingWorkshop/master/module3stuff/WikidataMapMakingWorkshop.ipynb)) \n"
   ]
  },
  {
   "cell_type": "markdown",
   "metadata": {},
   "source": [
    "For questions about this notebook, contact [Olaf Janssen](https://www.wikidata.org/wiki/User:OlafJanssen) on Wikidata // olaf.janssen@kb.nl // https://twitter.com/ookgezellig\n",
    "\n",
    "Latest update of this notebook: 22 October 2019\n",
    "    \n",
    "***********"
   ]
  },
  {
   "cell_type": "markdown",
   "metadata": {},
   "source": [
    "## Start of the notebook"
   ]
  },
  {
   "cell_type": "markdown",
   "metadata": {},
   "source": [
    "To make the map we will use\n",
    "1. **PAWS** (Jupyter Notebooks as a cloud service) - https://www.mediawiki.org/wiki/PAWS\n",
    "2. **SPARQL queries** from Wikidata - https://www.wikidata.org + https://query.wikidata.org/\n",
    "3. **ipyleaflet** (or Jupyter-Leaflet) : Interactive maps in the Jupyter notebook - https://github.com/jupyter-widgets/ipyleaflet + https://ipyleaflet.readthedocs.io/en/latest/\n",
    "4. **ipywidgets** (or Jupyter-widgets) - https://github.com/jupyter-widgets/ipywidgets + https://ipywidgets.readthedocs.io/en/latest\n"
   ]
  },
  {
   "cell_type": "markdown",
   "metadata": {},
   "source": [
    "I assume that you have started your PAWS server (https://paws.wmflabs.org/paws/hub) and that you have uploaded the [raw json file *WikidataMapMakingWorkshop.ipynb*](https://paws-public.wmflabs.org/paws-public/User:OlafJanssen/WikidataMapMakingWorkshop/WikidataMapMakingWorkshop.ipynb?format=raw) to it. We will use this as a starting point.\n",
    "\n",
    "Check that the URL of this notebook is https://paws.wmflabs.org/paws/user/YOURUSERNAME/notebooks/WikidataMapMakingWorkshop.ipynb (unless you renamed the notebook of course)\n",
    "    \n",
    "OK, now run (the 5 commands in) the following cell. \n",
    "\n",
    "If you are running this notebook on a **local Jupyter Notebooks installation**, such as Anaconda, you need to **skip this step**. See below for the alternative instructions.\n",
    "\n",
    "Notes:\n",
    "* Instead of running the cell below, you can also open your PAWS terminal (https://paws.wmflabs.org/paws/user/YOURUSERNAME/terminals/1)\n",
    "and run the 5 commands one by one there, but omitting the leading '!' \n",
    "* Delete the *--quiet* if you want to see more console output ([source](https://pip.pypa.io/en/stable/reference/pip/))"
   ]
  },
  {
   "cell_type": "code",
   "execution_count": 1,
   "metadata": {},
   "outputs": [
    {
     "name": "stdout",
     "output_type": "stream",
     "text": [
      "Enabling notebook extension jupyter-leaflet/extension...\n",
      "      - Validating: \u001b[32mOK\u001b[0m\n",
      "Enabling notebook extension jupyter-js-widgets/extension...\n",
      "      - Validating: \u001b[32mOK\u001b[0m\n"
     ]
    }
   ],
   "source": [
    "#Skip this step if you are running this notebook on a local Jupyter Notebooks installation, such as Anaconda. See the cell below for the alternative instructions.\n",
    "\n",
    "#Delete the '--quiet' if you want to see more console output (https://pip.pypa.io/en/stable/reference/pip/)\n",
    "\n",
    "#To enable SPARQL  - https://rdflib.github.io/sparqlwrapper/\n",
    "!pip install sparqlwrapper --quiet\n",
    "\n",
    "#To enable iPYLeaflet  - https://ipyleaflet.readthedocs.io/en/latest/installation.html \n",
    "!pip install ipyleaflet --quiet\n",
    "!jupyter nbextension enable --py --sys-prefix ipyleaflet \n",
    "\n",
    "#To enable iPYWidgets - https://ipywidgets.readthedocs.io/en/stable/user_install.html \n",
    "!pip install ipywidgets --quiet\n",
    "!jupyter nbextension enable --py widgetsnbextension "
   ]
  },
  {
   "cell_type": "markdown",
   "metadata": {},
   "source": [
    "#### Sidestep - running this notebook locally on Anaconda \n",
    "\n",
    "Instead of running this notebook cloud-based on PAWS, you can also run it on a local Jupyter Notebooks installation, such as [Anaconda](https://dataiseasy.com/2019/03/how-to-install-anaconda-and-jupyter-notebook/)\n",
    "\n",
    "If that case (thus using the Conda package manager), instead of using the pip commands above, run the following 3 commands in your Anaconda Prompt\n",
    "* ```conda install -c conda-forge sparqlwrapper ``` ([source](https://anaconda.org/conda-forge/sparqlwrapper))\n",
    "* ```conda install -c conda-forge ipyleaflet ``` ([source](https://ipyleaflet.readthedocs.io/en/latest/installation.html)) \n",
    "* ```conda install -c conda-forge ipywidgets ``` ([source](https://ipywidgets.readthedocs.io/en/stable/user_install.html))\n",
    "\n",
    "<img src=\"https://raw.githubusercontent.com/ookgezellig/WikidataMapMakingWorkshop/master/images/3-3-anaconda-prompt.JPG\" alt=\"Anaconda Promt\" width=\"600\" align=\"left\"/>\n",
    "<br clear=\"all\">\n",
    "\n",
    "Also make sure all the libraries mentioned in the cell below are available in your Anaconda environment (most of them will be included by default)\n",
    "\n",
    "#### End of sidestep"
   ]
  },
  {
   "cell_type": "markdown",
   "metadata": {},
   "source": [
    "Next, run the cell below to import the necessary Python libraries "
   ]
  },
  {
   "cell_type": "code",
   "execution_count": 2,
   "metadata": {},
   "outputs": [],
   "source": [
    "# Import necessary Python libraries \n",
    "\n",
    "import json\n",
    "import os\n",
    "import requests\n",
    "import pandas as pd\n",
    "\n",
    "from ipyleaflet import *\n",
    "\n",
    "from ipywidgets import *\n",
    "from ipywidgets.embed import embed_minimal_html, dependency_state, embed_data\n",
    "\n",
    "# https://python-visualization.github.io/branca/colormap.html#colormap\n",
    "# https://jiffyclub.github.io/palettable/colorbrewer/diverging/\n",
    "# from branca.colormap import linear"
   ]
  },
  {
   "cell_type": "markdown",
   "metadata": {},
   "source": [
    "Next we want to import a dataset containing geo coordinates (P625) that is the result of a SPARQL query in Wikidata \n",
    "\n",
    "For this, we are using the query https://w.wiki/6gJ (public libraries in the Netherlands, an (as per 22-10-2019) incomplete data set)\n",
    "<img src=\"https://raw.githubusercontent.com/ookgezellig/WikidataMapMakingWorkshop/master/images/3-3-layered-dutch-public-libraries-wikidata-query.png\" alt=\"Public libraries in the Netherlands, layered by province\" align=\"left\"/>\n"
   ]
  },
  {
   "cell_type": "markdown",
   "metadata": {},
   "source": [
    "Run this query, and under *</>Code --> Python* you will see the Python code that has been pasted in the cell below\n",
    "<img src=\"https://raw.githubusercontent.com/ookgezellig/WikidataMapMakingWorkshop/master/images/3-3-layered-dutch-public-libraries-python-code.png\" alt=\"Python code for public libraries in the Netherlands, layered by province\" align=\"left\"/>\n"
   ]
  },
  {
   "cell_type": "markdown",
   "metadata": {},
   "source": [
    "What about the red 'circle' in the screenshot above? To be able to run any SPARQL queries we must first set an explicit [User-Agent](https://meta.wikimedia.org/wiki/User-Agent_policy) to avoid getting blocked from the Wikidata Query Service - see\n",
    "* https://lists.wikimedia.org/pipermail/wikidata/2019-July/013247.html\n",
    "* https://phabricator.wikimedia.org/T230135\n",
    "    \n",
    "You do this by replacing in the Python code the line\n",
    "\n",
    "```python\n",
    "sparql = SPARQLWrapper(endpoint_url)\n",
    "```\n",
    "by \n",
    "```python\n",
    "sparql = SPARQLWrapper(endpoint_url, agent='User:YourUserName from PAWS notebook NotebookName.ipynb')\n",
    "```\n",
    "(and replace *YourUserName* with your real user name and *NotebookName* with the name of your notebook)"
   ]
  },
  {
   "cell_type": "code",
   "execution_count": 3,
   "metadata": {},
   "outputs": [],
   "source": [
    "from SPARQLWrapper import SPARQLWrapper, JSON\n",
    "\n",
    "endpoint_url = \"https://query.wikidata.org/sparql\"\n",
    "\n",
    "query = \"\"\"#All public library branches of the Netherlands, layered by province\n",
    "\n",
    "#defaultView:Map{\"hide\":[\"?dplLoc\"],\"layer\":\"?provLabel\"}\n",
    "\n",
    "SELECT DISTINCT ?dpl ?dplLabel ?dplImage ?dplLoc ?muniLabel ?provLabel WHERE {\n",
    "  ?dpl p:P31/ps:P31 wd:Q28564,wd:Q11396180;wdt:P17 wd:Q55. #public library branch in The Netherlands \n",
    "  ?dpl wdt:P625 ?dplLoc. #Geo location of the dpl\n",
    "  OPTIONAL{?dpl wdt:P18 ?dplImage} #Image of the dpl} \n",
    "  \n",
    "  #--- Find the municipality the libraty is in\n",
    "  ?dpl wdt:P131 ?muni. #municipality derived from library item, has one single value\n",
    "  ?muni p:P31 [ps:P31 ?muniIsA].\n",
    "  VALUES ?muniIsA {wd:Q2039348}\n",
    "  #Instead of the the above line, you can also do: FILTER(?muniIsA = wd:Q2039348) \n",
    "  \n",
    "  #-- Find the province the municipality is in\n",
    "  ?muni wdt:P131 ?prov.  #find the province\n",
    "  ?prov p:P31 [ps:P31 ?provIsA].\n",
    "  VALUES ?provIsA {wd:Q134390} #Only: province of the Netherlands (Q134390) \n",
    "  \n",
    "SERVICE wikibase:label { bd:serviceParam wikibase:language \"[AUTO_LANGUAGE],en\".}  \n",
    " \n",
    "}\n",
    "ORDER BY ?provLabel\"\"\"\n",
    "\n",
    "\n",
    "def get_results(endpoint_url, query):\n",
    "    sparql = SPARQLWrapper(endpoint_url, agent='User:OlafJanssen from PAWS notebook WikidataMapMakingWorkshop.ipynb')\n",
    "    #sparql = SPARQLWrapper(endpoint_url)\n",
    "    sparql.setQuery(query)\n",
    "    sparql.setReturnFormat(JSON)\n",
    "    return sparql.query().convert()\n",
    "\n",
    "results = get_results(endpoint_url, query)\n",
    "\n",
    "#for result in results[\"results\"][\"bindings\"]:\n",
    "#    print(result)"
   ]
  },
  {
   "cell_type": "markdown",
   "metadata": {},
   "source": [
    "In order to make maps later on, we first need to do some transformation on the coordinates in the result of the cell above:\n",
    "\n",
    "Convert coordinates *string tuple* like 'Point(6.558683 52.9946471)' into coordinates *float tuple* (52.9946471, 6.558683)\n",
    "\n",
    "Note that the lat long order has been switched"
   ]
  },
  {
   "cell_type": "code",
   "execution_count": 4,
   "metadata": {},
   "outputs": [],
   "source": [
    "#First make a new working copy of the original dict\n",
    "results = get_results(endpoint_url, query)\n",
    "libdict = results[\"results\"][\"bindings\"]\n",
    "#print(libdict) \n",
    "\n",
    "# Convert coordinates string tuple like 'Point(6.558683 52.9946471)' into coordinates float tuple (52.9946471, 6.558683)\n",
    "# You will probably need to adapt the dictionary keys ['dplLoc']['value'] to match your own result set.\n",
    "\n",
    "lib_coor_list=[]\n",
    "for result in libdict:\n",
    "    str_tuple = result['dplLoc']['value'][5:] #String tuple, strip the 'Point'-part\n",
    "    #print(str_tuple)\n",
    "    # See https://blender.stackexchange.com/questions/131827/converting-string-int-tuple-to-float-tuple\n",
    "    float_tuple2 = tuple(float(s) for s in str_tuple.strip(\"()\").split(\" \")) \n",
    "    float_tuple = (float_tuple2[1],float_tuple2[0]) #reverse order of tuple elements\n",
    "    result['dplLoc']['value'] = float_tuple #update dict\n",
    "    lib_coor_list.append(float_tuple)\n"
   ]
  },
  {
   "cell_type": "code",
   "execution_count": null,
   "metadata": {
    "scrolled": false
   },
   "outputs": [],
   "source": [
    "#print(libdict)"
   ]
  },
  {
   "cell_type": "code",
   "execution_count": null,
   "metadata": {},
   "outputs": [],
   "source": [
    "#print(lib_coor_list)"
   ]
  },
  {
   "cell_type": "markdown",
   "metadata": {},
   "source": [
    "Now we have two data objects available to make a map with\n",
    "\n",
    "1. *libdict*  (= a dictionary)\n",
    "2. *lib_coor_list*  (= a list)\n",
    "\n",
    "We can use them to start building a layered map step by step\n",
    "\n",
    "First, we start with a simple basemap (see https://ipyleaflet.readthedocs.io/en/latest/api_reference/map.html)\n",
    "\n",
    "Overview of basemaps: \n",
    "* https://leaflet-extras.github.io/leaflet-providers/preview/  \n",
    "* https://github.com/jupyter-widgets/ipyleaflet/blob/master/ipyleaflet/basemaps.py\n",
    "\n",
    "Note: not all basemaps seems to work equally well    "
   ]
  },
  {
   "cell_type": "code",
   "execution_count": 5,
   "metadata": {},
   "outputs": [
    {
     "data": {
      "application/vnd.jupyter.widget-view+json": {
       "model_id": "f06e03e92779473ea6f58f5788daf988",
       "version_major": 2,
       "version_minor": 0
      },
      "text/plain": [
       "Map(basemap={'url': 'https://{s}.tile.openstreetmap.org/{z}/{x}/{y}.png', 'max_zoom': 19, 'attribution': 'Map …"
      ]
     },
     "metadata": {},
     "output_type": "display_data"
    }
   ],
   "source": [
    "# Now that we have the data ready & loaded, we can start building a layered map step by step\n",
    "\n",
    "# First, we start with a simple basemap of The Netherlands\n",
    "basemap=basemaps.Esri.WorldTopoMap\n",
    "default_layer = basemap_to_tiles(basemap)\n",
    "default_layer.name='Base map of The Netherlands'\n",
    "\n",
    "# Overview of more basemaps: https://leaflet-extras.github.io/leaflet-providers/preview/ + \n",
    "# https://github.com/jupyter-widgets/ipyleaflet/blob/master/ipyleaflet/basemaps.py\n",
    "\n",
    "# Set initial center and zoom level of basemap\n",
    "map_center=(52.088889, 5.33) #Utrecht city\n",
    "map_zoom=8\n",
    "\n",
    "# Set layout of map\n",
    "map_layout = {\n",
    "    'width': '800px',\n",
    "    'height': '900px',\n",
    "    'border': '1px solid black',\n",
    "    'padding': '1px',\n",
    "    'margin': '0 auto 0 auto'\n",
    "}\n",
    "\n",
    "# Output the map to screen, embedded in notebook\n",
    "# https://ipyleaflet.readthedocs.io/en/latest/api_reference/map.html\n",
    "m = Map(layers=(default_layer,), center=map_center, zoom=map_zoom, layout=map_layout)\n",
    "m"
   ]
  },
  {
   "cell_type": "markdown",
   "metadata": {},
   "source": [
    " Next we add a dark layer to the map above"
   ]
  },
  {
   "cell_type": "code",
   "execution_count": 6,
   "metadata": {},
   "outputs": [],
   "source": [
    "# Dark background, 'night theme'\n",
    "dark_layer = basemap_to_tiles(basemaps.CartoDB.DarkMatter)\n",
    "m.add_layer(dark_layer) "
   ]
  },
  {
   "cell_type": "markdown",
   "metadata": {},
   "source": [
    "Next we add a simple heatmap of public libraries in The Netherlands - https://ipyleaflet.readthedocs.io/en/latest/api_reference/heatmap.html"
   ]
  },
  {
   "cell_type": "code",
   "execution_count": 7,
   "metadata": {},
   "outputs": [],
   "source": [
    "# Make a simple heatmap of Dutch public libraries - #https://ipyleaflet.readthedocs.io/en/latest/api_reference/heatmap.html\n",
    "\n",
    "simple_heatmap = Heatmap(\n",
    "    locations=lib_coor_list, # list of library coordinates, see cell above, \n",
    "                             # format is [(51.9617013, 5.8618218), (52.0039373, 5.9423836), (lat,long)....]\n",
    "    max= 10,\n",
    "    min_opacity= 0.5, \n",
    "    max_zoom =19, #If max_zoom value is small (6 o so..) the heatmap layer becomes untoggleable (can't be switched on/off, see cells below)\n",
    "    radius = 7.0, \n",
    "    blur = 3.0, \n",
    "    gradient = {0.4: \"blue\", 0.6: \"cyan\", 0.7: \"lime\", 0.8: \"yellow\", 1.0: \"red\"},\n",
    "    name = 'Simple heatmap public libraries'\n",
    ")\n",
    "\n",
    "m.add_layer(simple_heatmap) "
   ]
  },
  {
   "cell_type": "markdown",
   "metadata": {},
   "source": [
    "You will notice that in this simple heatmap the indivudual libraries are not clickable. \n",
    "Let's fix this. \n",
    "We want to add an (onClick) popup for every library in the heatmap, containing the municipality and province in which the library is situated.\n",
    "\n",
    "As we can't directly add popus to a heatmap, we first need to make a circular marker for every library, to which we then connect a popup. \n",
    "\n",
    "* https://ipyleaflet.readthedocs.io/en/latest/api_reference/circle.html\n",
    "* https://ipyleaflet.readthedocs.io/en/latest/api_reference/popup.html"
   ]
  },
  {
   "cell_type": "code",
   "execution_count": 9,
   "metadata": {},
   "outputs": [],
   "source": [
    "# Next we want to add a (onClick) popup for every library in the heatmap, containing the municipality and province of the library\n",
    "# As we can't directly add popus to a heatmap, we first need to make a circular marker for every library, \n",
    "# to which we then connect a popup. \n",
    "\n",
    "circlelist=[]\n",
    "\n",
    "for result in libdict:\n",
    "       \n",
    "    #============================Popup contents, with HTML formatting==========================\n",
    "    libname=result['dplLabel']['value'] #library name(label) in English\n",
    "    muniname= '<b>Municipality:</b> ' + result['muniLabel']['value'] # municipality the library is in \n",
    "    provname='<b>Province:</b> ' + result['provLabel']['value'] # province the municipality is in \n",
    "    \n",
    "    #===================POPUP TEMPLATE=======================================\n",
    "    # This template determines the text layout in the popup. \n",
    "    # With the external css you can tweak the styling of the text. You might need to create this css yourself, \n",
    "    # or download it from https://raw.githubusercontent.com/ookgezellig/WikidataMapMakingWorkshop/master/module3stuff/popupstyle.css\n",
    "    # and upload it to your own PAWS server\n",
    "    \n",
    "    # The approach with rendering the HTML template was found via \n",
    "    # https://ipywidgets.readthedocs.io/en/latest/embedding.html#python-interface\n",
    "    lib_popup_template = \"\"\" \n",
    "    <!DOCTYPE html>\n",
    "    <html>\n",
    "      <head>\n",
    "        <link rel='stylesheet' type='text/css' href='popupstyle.css'>\n",
    "      </head>\n",
    "      <body>\n",
    "        <h4>{xlibname}</h4>\n",
    "        <p>\n",
    "        {xmuni}<br/>\n",
    "        {xprov}\n",
    "        </p>\n",
    "      </body>\n",
    "    </html>\n",
    "    \"\"\"\n",
    "    #Connect the 3 names from libdict to the 3 {field}s in the HTML template  \n",
    "    rendered_template = lib_popup_template.format(xlibname=libname, xmuni=muniname, xprov=provname)\n",
    "    \n",
    "    #https://ipyleaflet.readthedocs.io/en/latest/api_reference/popup.html\n",
    "    message = HTML()\n",
    "    message.value = rendered_template\n",
    "    #message.description = popup_image #you could add an image in the popup here\n",
    "    #============================================================\n",
    "    \n",
    "    coor=result['dplLoc']['value'] #library lat,long coordinates, eg (53.0671982, 6.4616009)\n",
    "    \n",
    "    #https://ipyleaflet.readthedocs.io/en/latest/api_reference/circle.html\n",
    "    circle = Circle(location=coor, radius=12, color=\"red\", fill_color=\"red\", opacity=0.005) #0.005 = hardly visible\n",
    "    \n",
    "    circlelist.append(circle)\n",
    "    circle.popup = message # Bind popup to circle\n",
    "    \n",
    "# Create one layer(group) from all the circles + popups, using a LayerGroup\n",
    "# https://ipyleaflet.readthedocs.io/en/latest/api_reference/layer_group.html\n",
    "lib_circles_popups = LayerGroup(layers=circlelist, name='Library info (click on marker')"
   ]
  },
  {
   "cell_type": "markdown",
   "metadata": {},
   "source": [
    "Now we want to combine the three layers we created in the above cells \n",
    "1. simple_heatmap layer \n",
    "2. dark background layer \n",
    "3. circles popup layer\n",
    "\n",
    "into one single layer - as per https://ipyleaflet.readthedocs.io/en/latest/api_reference/layer_group.html"
   ]
  },
  {
   "cell_type": "code",
   "execution_count": 10,
   "metadata": {},
   "outputs": [],
   "source": [
    "# Group 3 layers (simple_heatmap, dark map style and circles-layer) into 1 overall layer\n",
    "# https://ipyleaflet.readthedocs.io/en/latest/api_reference/layer_group.html\n",
    "heatmap_full= LayerGroup(layers=(simple_heatmap,dark_layer,lib_circles_popups), name='Heatmap public libraries (with popups)')\n",
    "\n",
    "m.add_layer(heatmap_full)"
   ]
  },
  {
   "cell_type": "markdown",
   "metadata": {},
   "source": [
    "Your resulting map should look something like this\n",
    "\n",
    "<img src=\"https://raw.githubusercontent.com/ookgezellig/WikidataMapMakingWorkshop/master/images/3-3-heatmap-with-popup.png\" alt=\"Heatmap Dutch public libraries with popup\" width=\"400\" align=\"left\"/>\n",
    "<br clear=\"all\"/>\n",
    "<small>(Note to self: you can use HTML in Markdown - https://stackoverflow.com/questions/14675913/changing-image-size-in-markdown)</small>"
   ]
  },
  {
   "cell_type": "markdown",
   "metadata": {},
   "source": [
    "As a next step we want to make a layer displaying the boundaries of all municipalities in The Netherlands that have \n",
    "one or more public libraries, using GeoShapes, as [explained in Module 2](https://github.com/ookgezellig/WikidataMapMakingWorkshop/blob/master/OutlineAndNotes.md#module-26-geoshapes-using-sparql-and-osm) of the workshop.\n",
    "\n",
    "To make this layer, we first need to request GeoJson geoshapes (= municipal boundaries) from Wikidata Q-values. See\n",
    "* https://phabricator.wikimedia.org/T138868\n",
    "* https://maps.wikimedia.org/geoshape?getgeojson=1&ids=Q701,Q694\n",
    "* https://maps.wikimedia.org/geoshape?getgeojson=1&query=SPARQLQuery \n",
    "\n",
    "We do this via [P131](https://www.wikidata.org/wiki/Property:P131), *Located in the administrative territorial entity* = municipality where the library is located\n",
    "\n",
    "In the cell below, the SPARQL query after ```nl_muni_url = \"https://maps.wikimedia.org/geoshape?getgeojson=1&query=``` is (the encoded version) of \n",
    "\n",
    "```\n",
    "SELECT DISTINCT ?id WHERE {\n",
    "      ?item p:P31/ps:P31 wd:Q28564,wd:Q11396180;wdt:P17 wd:Q55. #Public library branch in the Netherlands\n",
    "      ?item wdt:P131 ?id. \n",
    "      ?id p:P31 [ps:P31 ?idIsA].\n",
    "      VALUES ?idIsA {wd:Q2039348}. #filter only the values 'municipality of the Netherlands' Q2039348 \n",
    "    }\n",
    "```\n",
    "Note that ```?id``` *must have* this name!"
   ]
  },
  {
   "cell_type": "code",
   "execution_count": 11,
   "metadata": {},
   "outputs": [],
   "source": [
    "# As a next step we want to make a layer displaying the boundaries of all municipalities in The Netherlands that have \n",
    "# public libraries, using GeoShapes, as explained in Module 2 of the workshop (https://etherpad.wikimedia.org/p/wm2019-mapmakingworkshop)\n",
    "\n",
    "# To make this layer, we first need to requets GeoJson GeoShapes (boundaries) from Wikidata Q-values. See\n",
    "# https://phabricator.wikimedia.org/T138868\n",
    "# https://maps.wikimedia.org/geoshape?getgeojson=1&ids=Q701,Q694\n",
    "# https://maps.wikimedia.org/geoshape?getgeojson=1&query=<SPARQL> \n",
    "\n",
    "# We do this via P131, 'located in the administrative territorial entity' = municipality where the library is located\n",
    "\n",
    "localgeojsonfile='nl_munis_with_public_libs.json' #This (cache) file is generated once if it does not yet exist. \n",
    "# Remove it from the server to generate a fresh/new version\n",
    "# This code was taken from https://ipyleaflet.readthedocs.io/en/latest/api_reference/geo_json.html\n",
    "\n",
    "if not os.path.exists(localgeojsonfile):\n",
    "  nl_muni_url = \"https://maps.wikimedia.org/geoshape?getgeojson=1&query=SELECT%20DISTINCT%20%3Fid%20WHERE%20%7B%0A%20%20%20%20%20%20%3Fitem%20p%3AP31%2Fps%3AP31%20wd%3AQ28564%2Cwd%3AQ11396180%3Bwdt%3AP17%20wd%3AQ55.%20%23Public%20library%20branch%20in%20the%20Netherlands%0A%20%20%20%20%20%20%3Fitem%20wdt%3AP131%20%3Fid.%20%0A%20%20%20%20%20%20%3Fid%20p%3AP31%20%5Bps%3AP31%20%3FidIsA%5D.%0A%20%20%20%20%20%20VALUES%20%3FidIsA%20%7Bwd%3AQ2039348%7D.%20%23filter%20only%20the%20values%20'municipality%20of%20the%20Netherlands'%20Q2039348%20%0A%20%20%20%20%7D\"\n",
    "  r = requests.get(nl_muni_url)\n",
    "  with open(localgeojsonfile, 'w') as f:\n",
    "    f.write(r.content.decode(\"utf-8\"))\n",
    "\n",
    "with open(localgeojsonfile, 'r') as f:\n",
    "  muni_geoshapes = json.load(f)\n"
   ]
  },
  {
   "cell_type": "markdown",
   "metadata": {},
   "source": [
    "Now that we have the GeoJson object (muni_geoshapes), we can build a map layer with it\n",
    "\n",
    "https://ipyleaflet.readthedocs.io/en/latest/api_reference/geo_json.html"
   ]
  },
  {
   "cell_type": "code",
   "execution_count": 12,
   "metadata": {},
   "outputs": [],
   "source": [
    "# Now make a layer with above boundaries (GeoShapes)\n",
    "\n",
    "# Choose styling of layer\n",
    "muni_style={'color': 'red', 'opacity':1, 'weight':1, 'dashArray':'2', 'fillOpacity':0.2, 'fillColor':'blue'}\n",
    "\n",
    "# 'muni_geoshapes' is GeoJson-object taken from cell above\n",
    "# https://ipyleaflet.readthedocs.io/en/latest/api_reference/geo_json.html\n",
    "muni_boundaries = GeoJSON(data=muni_geoshapes, style=muni_style, name='Municipal boundaries',hover_style={'fillOpacity': 0.5})\n",
    "\n",
    "m.add_layer(muni_boundaries)"
   ]
  },
  {
   "cell_type": "markdown",
   "metadata": {},
   "source": [
    "The resulting map should look like this (zoomed in, focus on the red municipal boundaries, no popup showing)\n",
    "\n",
    "<img src=\"https://raw.githubusercontent.com/ookgezellig/WikidataMapMakingWorkshop/master/images/3-3-heatmap-with-red-boundaries.png\" alt=\"Heatmap Dutch public libraries with red municipal boundaries\" width=\"400\" align=\"left\"/>\n",
    "<br clear=\"all\"/>"
   ]
  },
  {
   "cell_type": "markdown",
   "metadata": {},
   "source": [
    "in the previous steps we have added a number of layers to the map. Next we can add a control in the top right corner of the map to switch layers on and off.\n",
    "\n",
    "We also add a Fullscreen control\n",
    "\n",
    "* https://ipyleaflet.readthedocs.io/en/latest/api_reference/fullscreen_control.html\n",
    "* https://ipyleaflet.readthedocs.io/en/latest/api_reference/layers_control.html"
   ]
  },
  {
   "cell_type": "code",
   "execution_count": 13,
   "metadata": {
    "scrolled": false
   },
   "outputs": [],
   "source": [
    "# Add Layers and Fullscreen controls\n",
    "# https://ipyleaflet.readthedocs.io/en/latest/api_reference/fullscreen_control.html\n",
    "# https://ipyleaflet.readthedocs.io/en/latest/api_reference/layers_control.html\n",
    "\n",
    "m.add_control(LayersControl()) \n",
    "m.add_control(FullScreenControl()) "
   ]
  },
  {
   "cell_type": "markdown",
   "metadata": {},
   "source": [
    "Your resulting heatmap should look something like this, with the red municipal geoshapes, a popup, a layers control and a fullscreen control\n",
    "\n",
    "<img src=\"https://raw.githubusercontent.com/ookgezellig/WikidataMapMakingWorkshop/master/images/3-3-netherlands-public-libraries-heatmap.jpg\" alt=\"Dutch public library heatmap with the red municipal geoshapes, popup, layers control and fullscreen control\" width=\"800\" align=\"left\"/>\n",
    "<br clear=\"all\"/>"
   ]
  },
  {
   "cell_type": "markdown",
   "metadata": {},
   "source": [
    "As the final step we want to export the map to a (stand-alone, off-Wiki) HTML page that can be viewed in a browser.\n",
    "\n",
    "https://ipywidgets.readthedocs.io/en/latest/embedding.html#python-interface\n",
    "\n",
    "The map above is available at http://ookgezellig.github.io/WikidataMapMakingWorkshop/NetherlandsPublicLibrariesHeatmap.html"
   ]
  },
  {
   "cell_type": "code",
   "execution_count": 14,
   "metadata": {},
   "outputs": [],
   "source": [
    "# Export the map to html file\n",
    "# https://ipywidgets.readthedocs.io/en/latest/embedding.html#python-interface\n",
    "# The addition of 'state=dependency_state([m])' keeps the html file growing too large\n",
    "\n",
    "embed_minimal_html('NetherlandsPublicLibrariesHeatmap.html', views=[m], state=dependency_state([m]), title='Heat map of Dutch public libraries, 12th August 2019')\n",
    "\n",
    "# This map is available at http://ookgezellig.github.io/WikidataMapMakingWorkshop/NetherlandsPublicLibrariesHeatmap.html"
   ]
  },
  {
   "cell_type": "markdown",
   "metadata": {},
   "source": [
    "# This is the end of the workshop "
   ]
  },
  {
   "cell_type": "markdown",
   "metadata": {},
   "source": [
    "## Reusing this notebook\n",
    "You are free to reuse this notebook (and all the other [workshop materials](https://github.com/ookgezellig/WikidataMapMakingWorkshop)), as it is available under the license [Creative Commons Attribution-ShareAlike 4.0 International](https://creativecommons.org/licenses/by-sa/4.0/)\n",
    "\n",
    "![CC-BY-SA logo](https://upload.wikimedia.org/wikipedia/commons/thumb/f/ff/CC-BY-SA.svg/200px-CC-BY-SA.svg.png)"
   ]
  },
  {
   "cell_type": "markdown",
   "metadata": {},
   "source": [
    "## The cells below contain additional code snippets that can be used as inspiration for building additional map features.\n",
    "\n",
    "### There is no guarantee that all the (perhaps sometimes messy or outdated) code will run smoothly, you might need to do some tweaking"
   ]
  },
  {
   "cell_type": "code",
   "execution_count": null,
   "metadata": {},
   "outputs": [],
   "source": [
    "# Next, we want to request the library density for every municipality = number of public libraries per 10.000 inhabitants\n",
    "# As output format we need a dictionary:\n",
    "# lib_density_dict = {'key':float_value, ...} = {'WDQ':density_float, ...}, eg. {'Q745038':0.6379, ....}\n",
    "\n",
    "# You could do this via an URL-query : https://query.wikidata.org/bigdata/namespace/wdq/sparql?query=<SPARQL>&format=json\n",
    "# (taken from https://www.wikidata.org/wiki/Wikidata:SPARQL_query_service/nl), \n",
    "# but we don't do that here, we instead use the \"def get_results(endpoint_url, query):\" from the cell above, \n",
    "# as this makes the (somewhat complex) SPARQL query more explicit/visible \n",
    "\n",
    "# TODO: Get most recent municipal population figures from CBS and add those to Wikidata\n",
    "\n",
    "density_query = \"\"\"SELECT \n",
    "?id ?lib_count ?pop ?pop_year ?lib_density\n",
    "WHERE { \n",
    "\n",
    "  { #-- start subquery to get number of libraries in each municipality\n",
    "    SELECT ?muni (COUNT(?muni) AS ?lib_count) WHERE {\n",
    "      ?item p:P31/ps:P31 wd:Q28564,wd:Q11396180;wdt:P17 wd:Q55.\n",
    "      ?item wdt:P131 ?muni.\n",
    "      ?muni p:P31 [ps:P31 ?muniIsA].\n",
    "      VALUES ?muniIsA {wd:Q2039348}. #filter only the value 'municipality of the Netherlands' Q2039348 \n",
    "      ?muni rdfs:label ?muniLabel.\n",
    "      FILTER (lang(?muniLabel) = 'nl') \n",
    "      \n",
    "    } #where\n",
    "    GROUP BY ?muni  \n",
    " }   #-- end subquery  \n",
    "   \n",
    "#main query \n",
    "   BIND(?muni AS ?id)\n",
    "   \n",
    "   OPTIONAL{\n",
    "    ?muni p:P1082 ?popStatement.\n",
    "    ?popStatement ps:P1082 ?pop;\n",
    "                  pq:P585 ?pop_date .\n",
    "    BIND(STR(YEAR(?pop_date)) AS ?pop_year).\n",
    "    } #optional\n",
    "  \n",
    "   #https://stackoverflow.com/questions/49066390/how-to-get-only-the-most-recent-value-from-a-wikidata-property\n",
    "   FILTER NOT EXISTS {\n",
    "    ?muni p:P1082/pq:P585 ?helpdate .\n",
    "    FILTER (?helpdate > ?pop_date)\n",
    "    BIND(STR(YEAR(?pop_date)) AS ?pop_year).\n",
    "    }\n",
    "    BIND(IF(BOUND(?pop),(10000*?lib_count/?pop),'N/A') AS ?lib_density)\n",
    " }\"\"\"\n",
    "\n",
    "\n",
    "localdensityfile='nl_public_library_density.json' #remove this file from the server to generate a fresh/new version\n",
    "if not os.path.exists(localdensityfile):\n",
    "    density_results = get_results(endpoint_url, density_query)\n",
    "\n",
    "    # Transform density_results into lib_density_dict = {'key':float_value, ...} = \n",
    "    # {'WDQ':density_float, ...}, eg. {'Q745038':0.6379, ....} \n",
    "    lib_density_dict ={}\n",
    "    for dr in density_results[\"results\"][\"bindings\"]:\n",
    "        #print(dr)\n",
    "        wdq=dr['id']['value'].split(\"/\")[-1:][0]\n",
    "        lib_density=dr['lib_density']['value']\n",
    "        if lib_density != 'N/A':\n",
    "            lib_density_dict[wdq] = float(lib_density)\n",
    "        else:\n",
    "            lib_density_dict[wdq] = 0.0\n",
    "    print(lib_density_dict) \n",
    "    with open(localdensityfile, 'w') as f:\n",
    "        json.dump(lib_density_dict, f, indent=4)\n",
    "\n",
    "#print(density_results)    \n",
    "\n",
    "with open(localdensityfile, 'r') as g:\n",
    "    lib_density_dict = json.load(g)\n",
    "    #print(lib_density_dict)"
   ]
  },
  {
   "cell_type": "code",
   "execution_count": null,
   "metadata": {},
   "outputs": [],
   "source": [
    "# We can now combine the 'muni_geoshapes' and the 'lib_density_dict' data to make a Colorpleth \n",
    "# to show municipal library density (per 10.000 inhabitants) on a map.\n",
    "# https://ipyleaflet.readthedocs.io/en/latest/api_reference/choropleth.html\n",
    "\n",
    "density_style={'color': 'red', 'opacity':1, 'weight':1, 'dashArray':'2', 'fillOpacity':0.2}\n",
    "libdensitylayer = Choropleth(\n",
    "    geo_data=muni_geoshapes, #geojson dict \"id\":\"key\" - eg. \"id\":\"Q745038\" (Waalwijk)\n",
    "    choro_data=lib_density_dict , #simple dict of \"key\":float \n",
    "    #e.g. \"Q745038\":0.6379992344009187189 --> generated from SPARQL query in the cell above\n",
    "    colormap=linear.RdYlGn_11, #https://jiffyclub.github.io/palettable/colorbrewer/sequential/#ylgnbu_3\n",
    "    style=density_style,\n",
    "    #value_min =0.0,\n",
    "    #value_max = 3.0,\n",
    "    hover_style={'fillOpacity': 0.7},\n",
    "    name='Gemeentelijke bibliotheekdichtheid, per inwoner')\n",
    "\n",
    "#m.add_layer(libdensitylayer)"
   ]
  },
  {
   "cell_type": "code",
   "execution_count": null,
   "metadata": {},
   "outputs": [],
   "source": [
    "# Now we want to make a layer that displays an infobox containing municipal data:\n",
    "# 1) Name of municipality (in Dutch) - still to sparql\n",
    "# 2) Province the municiplaity is in \n",
    "# 3) No of inhabitatns (in a given year)\n",
    "# 4) Area in km^2 (in a given year) - still to sparql\n",
    "# 5) No of libraries in the municiplaity\n",
    "# 6) Library density - per 10.000 inhabitants\n",
    "# 7) Library density - per km^2 - still to calculate\n",
    "\n",
    "boxlayout=Layout(margin='0 0 0 0px', \n",
    "                 border='2px dashed white', \n",
    "                 width='auto')\n",
    "label = HTML()\n",
    "\n",
    "box=Box([label], layout=boxlayout)\n",
    "\n",
    "#print(layer.style.keys)\n",
    "\n",
    "def hover_handler(event=None, id=None, properties=None):\n",
    "    label.value=\"<b style='color:white'>Gemeente:</b><br/><br/><br/><br/>\"\n",
    "\n",
    "    #label.value=\"<b>Gemeente:</b> \"+ #properties['geounit']+\\\n",
    "    #\"<br/><b>Provincie:</b> \"+ #properties['subregion']+\\\n",
    "    #\"<br/><b>Inwoners:</b> \"+ #str('{:,}'.format(properties['pop_est']).replace(',', '.'))+\\\n",
    "    #\"<br/><b>Inkomen:</b> \"+ #str('{:,}'.format(properties['gdp_md_est']).replace(',', '.'))    \n",
    "    \n",
    "libdensitylayer.on_hover(hover_handler)\n",
    "\n",
    "#m.add_layer(muni_boundaries)\n",
    "\n",
    "widget_control = WidgetControl(widget=box, position='bottomright', min_height=115, max_height=115, \n",
    "                               min_width=250)\n",
    "m.add_control(widget_control)"
   ]
  },
  {
   "cell_type": "code",
   "execution_count": null,
   "metadata": {},
   "outputs": [],
   "source": [
    "# Optional gadget: add small minimap into the main map\n",
    "minimap = Map(\n",
    "    zoom_control=False, attribution_control=False, center=center, basemap=basemap, continuous_update=False)\n",
    "minimap.layout.width = '200px'\n",
    "minimap.layout.height = '200px'\n",
    "minimap.zoom=zoom+2\n",
    "#minimap.add_layer(bibliotheekvestigingen)\n",
    "link((minimap, 'center'), (m, 'center'))\n",
    "#link((minimap, 'zoom'), (m, 'zoom'))\n",
    "\n",
    "minimap_control = WidgetControl(widget=minimap, position='bottomleft')\n",
    "m.add_control(minimap_control)"
   ]
  }
 ],
 "metadata": {
  "kernelspec": {
   "display_name": "Python 3",
   "language": "python",
   "name": "python3"
  },
  "language_info": {
   "codemirror_mode": {
    "name": "ipython",
    "version": 3
   },
   "file_extension": ".py",
   "mimetype": "text/x-python",
   "name": "python",
   "nbconvert_exporter": "python",
   "pygments_lexer": "ipython3",
   "version": "3.6.7"
  }
 },
 "nbformat": 4,
 "nbformat_minor": 2
}
